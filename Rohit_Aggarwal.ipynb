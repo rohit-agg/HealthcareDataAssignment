{
 "cells": [
  {
   "cell_type": "markdown",
   "metadata": {
    "id": "xwi9mzFPPDv7"
   },
   "source": [
    "# Healthcare Data Assignment"
   ]
  },
  {
   "cell_type": "code",
   "execution_count": 1,
   "metadata": {},
   "outputs": [
    {
     "name": "stdout",
     "output_type": "stream",
     "text": [
      "Requirement already satisfied: pycrf in /opt/anaconda3/lib/python3.12/site-packages (0.0.1)\n",
      "Requirement already satisfied: sklearn-crfsuite in /opt/anaconda3/lib/python3.12/site-packages (0.5.0)\n",
      "Requirement already satisfied: python-crfsuite>=0.9.7 in /opt/anaconda3/lib/python3.12/site-packages (from sklearn-crfsuite) (0.9.11)\n",
      "Requirement already satisfied: scikit-learn>=0.24.0 in /opt/anaconda3/lib/python3.12/site-packages (from sklearn-crfsuite) (1.5.1)\n",
      "Requirement already satisfied: tabulate>=0.4.2 in /opt/anaconda3/lib/python3.12/site-packages (from sklearn-crfsuite) (0.9.0)\n",
      "Requirement already satisfied: tqdm>=2.0 in /opt/anaconda3/lib/python3.12/site-packages (from sklearn-crfsuite) (4.66.5)\n",
      "Requirement already satisfied: numpy>=1.19.5 in /opt/anaconda3/lib/python3.12/site-packages (from scikit-learn>=0.24.0->sklearn-crfsuite) (1.26.4)\n",
      "Requirement already satisfied: scipy>=1.6.0 in /opt/anaconda3/lib/python3.12/site-packages (from scikit-learn>=0.24.0->sklearn-crfsuite) (1.13.1)\n",
      "Requirement already satisfied: joblib>=1.2.0 in /opt/anaconda3/lib/python3.12/site-packages (from scikit-learn>=0.24.0->sklearn-crfsuite) (1.4.2)\n",
      "Requirement already satisfied: threadpoolctl>=3.1.0 in /opt/anaconda3/lib/python3.12/site-packages (from scikit-learn>=0.24.0->sklearn-crfsuite) (3.5.0)\n"
     ]
    }
   ],
   "source": [
    "# Install required libraries\n",
    "!pip install pycrf\n",
    "!pip install sklearn-crfsuite"
   ]
  },
  {
   "cell_type": "code",
   "execution_count": 2,
   "metadata": {
    "id": "T4hxafMCE1nn"
   },
   "outputs": [],
   "source": [
    "import string\n",
    "import spacy\n",
    "import sklearn_crfsuite\n",
    "import pandas as pd\n",
    "\n",
    "from spacy.matcher import DependencyMatcher\n",
    "from sklearn_crfsuite import metrics\n",
    "from collections import Counter"
   ]
  },
  {
   "cell_type": "code",
   "execution_count": 3,
   "metadata": {},
   "outputs": [
    {
     "name": "stdout",
     "output_type": "stream",
     "text": [
      "python : 3.12.7 | packaged by Anaconda, Inc. | (main, Oct  4 2024, 08:22:19) [Clang 14.0.6 ]\n",
      "jupyter : 5.7.2\n",
      "pandas : 2.2.2\n",
      "spacy : 3.8.4\n"
     ]
    }
   ],
   "source": [
    "# Print python, jupyter and all the imported library versions\n",
    "import sys\n",
    "import jupyter_core\n",
    "\n",
    "print(\"python : {0}\".format(sys.version))\n",
    "print(\"jupyter : {0}\".format(jupyter_core.__version__))\n",
    "print(\"pandas : {0}\".format(pd.__version__))\n",
    "print(\"spacy : {0}\".format(spacy.__version__))"
   ]
  },
  {
   "cell_type": "code",
   "execution_count": 4,
   "metadata": {},
   "outputs": [],
   "source": [
    "# Load the en core web small package from spacy\n",
    "model = spacy.load(\"en_core_web_sm\")"
   ]
  },
  {
   "cell_type": "markdown",
   "metadata": {
    "id": "bE9Hwb3AUHwG"
   },
   "source": [
    "## Data Preprocessing"
   ]
  },
  {
   "cell_type": "code",
   "execution_count": 5,
   "metadata": {
    "id": "bz6czVx9R6WJ"
   },
   "outputs": [],
   "source": [
    "# Read train sentences and labels, test sentences and labels from corresponding file\n",
    "with open('train_sent', 'r') as train_sent_file:\n",
    "  train_sentences = train_sent_file.readlines()\n",
    "\n",
    "with open('train_label', 'r') as train_label_file:\n",
    "  train_labels = train_label_file.readlines()\n",
    "\n",
    "with open('test_sent', 'r') as test_sent_file:\n",
    "  test_sentences = test_sent_file.readlines()\n",
    "\n",
    "with open('test_label', 'r') as test_label_file:\n",
    "  test_labels = test_label_file.readlines()"
   ]
  },
  {
   "cell_type": "code",
   "execution_count": 6,
   "metadata": {},
   "outputs": [],
   "source": [
    "# Create function to form sentences out of words\n",
    "def form_sentences(words):\n",
    "    sentences = []\n",
    "    sentence = []\n",
    "    for word in words:\n",
    "        word = word.strip()\n",
    "        if len(word) == 0:\n",
    "            sentences.append(\" \".join(sentence).strip())\n",
    "            sentence = []\n",
    "        else:\n",
    "            sentence.append(word)\n",
    "    return sentences"
   ]
  },
  {
   "cell_type": "code",
   "execution_count": 7,
   "metadata": {},
   "outputs": [],
   "source": [
    "# Create function to form labels out of individual placeholders\n",
    "def form_labels(labels):\n",
    "    label_lines = []\n",
    "    label_line = []\n",
    "    for label in labels:\n",
    "        label = label.strip()\n",
    "        if len(label) == 0:\n",
    "            label_lines.append(\" \".join(label_line))\n",
    "            label_line = []\n",
    "        else:\n",
    "            label_line.append(label)\n",
    "    return label_lines"
   ]
  },
  {
   "cell_type": "code",
   "execution_count": 8,
   "metadata": {},
   "outputs": [
    {
     "data": {
      "text/plain": [
       "['All live births > or = 23 weeks at the University of Vermont in 1995 ( n = 2395 ) were retrospectively analyzed for delivery route , indication for cesarean , gestational age , parity , and practice group ( to reflect risk status )',\n",
       " 'The total cesarean rate was 14.4 % ( 344 of 2395 ) , and the primary rate was 11.4 % ( 244 of 2144 )',\n",
       " 'Abnormal presentation was the most common indication ( 25.6 % , 88 of 344 )',\n",
       " \"The `` corrected '' cesarean rate ( maternal-fetal medicine and transported patients excluded ) was 12.4 % ( 273 of 2194 ) , and the `` corrected '' primary rate was 9.6 % ( 190 of 1975 )\",\n",
       " \"Arrest of dilation was the most common indication in both `` corrected '' subgroups ( 23.4 and 24.6 % , respectively )\"]"
      ]
     },
     "execution_count": 8,
     "metadata": {},
     "output_type": "execute_result"
    }
   ],
   "source": [
    "# Convert train sentences into actual sentences, print first 5\n",
    "train_sentences = form_sentences(train_sentences)\n",
    "train_sentences[:5]"
   ]
  },
  {
   "cell_type": "code",
   "execution_count": 9,
   "metadata": {},
   "outputs": [
    {
     "data": {
      "text/plain": [
       "['O O O O O O O O O O O O O O O O O O O O O O O O O O O O O O O O O O O O O O O O O O O O O',\n",
       " 'O O O O O O O O O O O O O O O O O O O O O O O O O',\n",
       " 'O O O O O O O O O O O O O O O',\n",
       " 'O O O O O O O O O O O O O O O O O O O O O O O O O O O O O O O O O O O O O O',\n",
       " 'O O O O O O O O O O O O O O O O O O O O O O']"
      ]
     },
     "execution_count": 9,
     "metadata": {},
     "output_type": "execute_result"
    }
   ],
   "source": [
    "# Convert train labels into label sequence, print first 5\n",
    "train_labels = form_labels(train_labels)\n",
    "train_labels[:5]"
   ]
  },
  {
   "cell_type": "code",
   "execution_count": 10,
   "metadata": {},
   "outputs": [
    {
     "data": {
      "text/plain": [
       "['Furthermore , when all deliveries were analyzed , regardless of risk status but limited to gestational age > or = 36 weeks , the rates did not change ( 12.6 % , 280 of 2214 ; primary 9.2 % , 183 of 1994 )',\n",
       " 'As the ambient temperature increases , there is an increase in insensible fluid loss and the potential for dehydration',\n",
       " 'The daily high temperature ranged from 71 to 104 degrees F and AFI values ranged from 1.7 to 24.7 cm during the study period',\n",
       " 'There was a significant correlation between the 2- , 3- , and 4-day mean temperature and AFI , with the 4-day mean being the most significant ( r = 0.31 , p & # 60 ; 0.001 )',\n",
       " 'Fluctuations in ambient temperature are inversely correlated to changes in AFI']"
      ]
     },
     "execution_count": 10,
     "metadata": {},
     "output_type": "execute_result"
    }
   ],
   "source": [
    "# Convert test sentences into actual sentences, print first 5\n",
    "test_sentences = form_sentences(test_sentences)\n",
    "test_sentences[:5]"
   ]
  },
  {
   "cell_type": "code",
   "execution_count": 11,
   "metadata": {},
   "outputs": [
    {
     "data": {
      "text/plain": [
       "['O O O O O O O O O O O O O O O O O O O O O O O O O O O O O O O O O O O O O O O O O O O O',\n",
       " 'O O O O O O O O O O O O O O O O O O O',\n",
       " 'O O O O O O O O O O O O O O O O O O O O O O O O',\n",
       " 'O O O O O O O O O O O O O O O O O O O O O O O O O O O O O O O O O O O O O O',\n",
       " 'O O O O O O O O O O O']"
      ]
     },
     "execution_count": 11,
     "metadata": {},
     "output_type": "execute_result"
    }
   ],
   "source": [
    "# Convert test labels into label sequence, print first 5\n",
    "test_labels = form_labels(test_labels)\n",
    "test_labels[:5]"
   ]
  },
  {
   "cell_type": "code",
   "execution_count": 12,
   "metadata": {},
   "outputs": [
    {
     "name": "stdout",
     "output_type": "stream",
     "text": [
      "Number of sentences in train dataset = 2599\n"
     ]
    }
   ],
   "source": [
    "print(\"Number of sentences in train dataset =\", len(train_sentences))"
   ]
  },
  {
   "cell_type": "code",
   "execution_count": 13,
   "metadata": {
    "id": "zwa18H_IMFXV"
   },
   "outputs": [
    {
     "name": "stdout",
     "output_type": "stream",
     "text": [
      "Number of sentences in test dataset = 1056\n"
     ]
    }
   ],
   "source": [
    "print(\"Number of sentences in test dataset =\", len(test_sentences))"
   ]
  },
  {
   "cell_type": "code",
   "execution_count": 14,
   "metadata": {
    "id": "unXoD2bWLPZD"
   },
   "outputs": [
    {
     "name": "stdout",
     "output_type": "stream",
     "text": [
      "Number of label lines in train dataset = 2599\n"
     ]
    }
   ],
   "source": [
    "print(\"Number of label lines in train dataset =\", len(train_labels))"
   ]
  },
  {
   "cell_type": "code",
   "execution_count": 15,
   "metadata": {},
   "outputs": [
    {
     "name": "stdout",
     "output_type": "stream",
     "text": [
      "Number of label lines in test dataset = 1056\n"
     ]
    }
   ],
   "source": [
    "print(\"Number of label lines in test dataset =\", len(test_labels))"
   ]
  },
  {
   "cell_type": "markdown",
   "metadata": {
    "id": "r9Hy2tECbd9a"
   },
   "source": [
    "## Concept Identification"
   ]
  },
  {
   "cell_type": "code",
   "execution_count": 16,
   "metadata": {
    "id": "7w8nJSPlZqjw"
   },
   "outputs": [],
   "source": [
    "# Setup dependency matcher for nouns, and exclude punctuations\n",
    "def extract_nouns(sentences):\n",
    "\n",
    "    pattern = [{\n",
    "        \"RIGHT_ID\": \"noun\",\n",
    "        \"RIGHT_ATTRS\": {\n",
    "            \"pos\": {\"in\": [\"NOUN\", \"PROPN\"]},\n",
    "            \"is_punct\": False\n",
    "        }\n",
    "    }]\n",
    "    matcher = DependencyMatcher(model.vocab)\n",
    "    matcher.add(\"NOUN_MATCHER\", [pattern])\n",
    "    \n",
    "    extracted_nouns = []\n",
    "    for sentence in sentences:\n",
    "        doc = model(sentence)\n",
    "        for match in matcher(doc):\n",
    "            extracted_nouns.append(doc[match[1][0]].text.lower())\n",
    "    \n",
    "    return extracted_nouns"
   ]
  },
  {
   "cell_type": "code",
   "execution_count": 17,
   "metadata": {},
   "outputs": [],
   "source": [
    "# Extract nouns from training and testing data sets combined\n",
    "all_sentences = train_sentences + test_sentences\n",
    "all_nouns = extract_nouns(all_sentences)"
   ]
  },
  {
   "cell_type": "code",
   "execution_count": 18,
   "metadata": {
    "id": "DhDY4jjoawTa"
   },
   "outputs": [
    {
     "data": {
      "text/plain": [
       "[('patients', 507),\n",
       " ('treatment', 304),\n",
       " ('cancer', 211),\n",
       " ('therapy', 177),\n",
       " ('study', 174),\n",
       " ('disease', 149),\n",
       " ('cell', 142),\n",
       " ('lung', 118),\n",
       " ('results', 116),\n",
       " ('group', 111),\n",
       " ('effects', 99),\n",
       " ('gene', 91),\n",
       " ('chemotherapy', 91),\n",
       " ('use', 87),\n",
       " ('effect', 82),\n",
       " ('women', 81),\n",
       " ('analysis', 76),\n",
       " ('risk', 74),\n",
       " ('surgery', 73),\n",
       " ('cases', 72),\n",
       " ('p', 72),\n",
       " ('rate', 68),\n",
       " ('survival', 67),\n",
       " ('response', 66),\n",
       " ('children', 66)]"
      ]
     },
     "execution_count": 18,
     "metadata": {},
     "output_type": "execute_result"
    }
   ],
   "source": [
    "# Adding all extracted nouns, and printing top 25 most common tokens\n",
    "noun_counter = Counter(all_nouns)\n",
    "noun_counter.most_common(25)"
   ]
  },
  {
   "cell_type": "markdown",
   "metadata": {
    "id": "bnfAlKgA5fd4"
   },
   "source": [
    "## Defining features for CRF\n",
    "\n",
    "\n",
    "\n"
   ]
  },
  {
   "cell_type": "code",
   "execution_count": 19,
   "metadata": {
    "id": "aS6P1Gog3JMf"
   },
   "outputs": [],
   "source": [
    "# Let's define the features to get the feature value for one word.\n",
    "def featuresForOneWord(sentence, tokens, pos): \n",
    "    \n",
    "    word = sentence[pos]\n",
    "    word_token = tokens[pos]\n",
    "    features = [\n",
    "        'word.lower=' + word.lower(),                          # Word in lowercase\n",
    "        'word.length=%s' % len(word),                          # Length of word\n",
    "        'word[-3:]=' + word[-3:],                              # Last 3 characters of the word\n",
    "        'word[-2:]=' + word[-2:],                              # Last 2 characters of the word\n",
    "        'word[:-3]=' + word[:-3],                              # All characters except last 3 characters of the word\n",
    "        'word[:-2]=' + word[:-2],                              # All characters except last 2 characters of the word\n",
    "        'word.isupper=%s' % word.isupper(),                    # Is the word in uppercase\n",
    "        'word.isdigit=%s' % word.isdigit(),                    # Is the word a number\n",
    "        'word.startsWithCapital=%s' % word[0].isupper(),       # Is the first character in uppercase\n",
    "        'word.postag=' + word_token.pos_                       # POS tag associated with the word\n",
    "    ]\n",
    "\n",
    "    if (pos > 0):\n",
    "        prev_word = sentence[pos-1]\n",
    "        prev_word_token = tokens[pos-1]\n",
    "        features.extend([\n",
    "            'prev_word.lower=' + prev_word.lower(),                        # Previous word in lowercase\n",
    "            'prev_word.isdigit=%s' % prev_word.isdigit(),                  # If the previous word a number\n",
    "            'prev_word.ispunct=%s' % (prev_word in string.punctuation),    # Is the previous word a punctuation\n",
    "            'prev_word.postag=' + prev_word_token.pos_,                    # POS tag associated with the word\n",
    "            \n",
    "            # Previous word is associated to the current word or parent of current word via compound or adjectival modifier dependency\n",
    "            'prev_word.related=%s' % (prev_word_token.dep_ in ['compound', 'amod'] and (prev_word_token.head.text in [word, word_token.head.text]))\n",
    "        ])\n",
    "    else:\n",
    "        features.append('BEG')                                 # Is the word first in the sentence\n",
    "\n",
    "    if pos == (len(sentence)-1):\n",
    "        features.append('END')                                 # Is the word last in the sentence\n",
    "\n",
    "    return features"
   ]
  },
  {
   "cell_type": "markdown",
   "metadata": {
    "id": "haBEOsZGKhb9"
   },
   "source": [
    "## Getting the features"
   ]
  },
  {
   "cell_type": "code",
   "execution_count": 20,
   "metadata": {
    "id": "emBIm5uK7vtK"
   },
   "outputs": [],
   "source": [
    "# Write a code to get features for a sentence.\n",
    "def featuresForOneSentence(sentence):\n",
    "    sentence_list = sentence.split()\n",
    "    tokens = model(sentence)\n",
    "    return [featuresForOneWord(sentence_list, tokens, pos) for pos in range(len(sentence_list))]"
   ]
  },
  {
   "cell_type": "code",
   "execution_count": 21,
   "metadata": {
    "id": "tiA-A_ws8I8-"
   },
   "outputs": [],
   "source": [
    "# Write a code to get the labels for a sentence.\n",
    "def labelsInListForOneSentence(labels):\n",
    "    return labels.split()"
   ]
  },
  {
   "cell_type": "markdown",
   "metadata": {
    "id": "QG6hYY6rNjS8"
   },
   "source": [
    "## Define input and target variables\n"
   ]
  },
  {
   "cell_type": "code",
   "execution_count": 22,
   "metadata": {
    "id": "8Nuz-MjW8LWm"
   },
   "outputs": [],
   "source": [
    "# Defining input variables on both train and test dataset\n",
    "X_train = [featuresForOneSentence(sentence) for sentence in train_sentences]\n",
    "X_test = [featuresForOneSentence(sentence) for sentence in test_sentences]"
   ]
  },
  {
   "cell_type": "code",
   "execution_count": 23,
   "metadata": {
    "id": "HrzLkWs0Nvx4"
   },
   "outputs": [],
   "source": [
    "# Defining target variables on both train and test dataset\n",
    "Y_train = [labelsInListForOneSentence(labels) for labels in train_labels]\n",
    "Y_test = [labelsInListForOneSentence(labels) for labels in test_labels]"
   ]
  },
  {
   "cell_type": "markdown",
   "metadata": {
    "id": "YrIAz8gqN_Js"
   },
   "source": [
    "## Building the model"
   ]
  },
  {
   "cell_type": "code",
   "execution_count": 24,
   "metadata": {
    "id": "k2oGSiqQ8Otd"
   },
   "outputs": [
    {
     "data": {
      "text/html": [
       "<style>#sk-container-id-1 {\n",
       "  /* Definition of color scheme common for light and dark mode */\n",
       "  --sklearn-color-text: black;\n",
       "  --sklearn-color-line: gray;\n",
       "  /* Definition of color scheme for unfitted estimators */\n",
       "  --sklearn-color-unfitted-level-0: #fff5e6;\n",
       "  --sklearn-color-unfitted-level-1: #f6e4d2;\n",
       "  --sklearn-color-unfitted-level-2: #ffe0b3;\n",
       "  --sklearn-color-unfitted-level-3: chocolate;\n",
       "  /* Definition of color scheme for fitted estimators */\n",
       "  --sklearn-color-fitted-level-0: #f0f8ff;\n",
       "  --sklearn-color-fitted-level-1: #d4ebff;\n",
       "  --sklearn-color-fitted-level-2: #b3dbfd;\n",
       "  --sklearn-color-fitted-level-3: cornflowerblue;\n",
       "\n",
       "  /* Specific color for light theme */\n",
       "  --sklearn-color-text-on-default-background: var(--sg-text-color, var(--theme-code-foreground, var(--jp-content-font-color1, black)));\n",
       "  --sklearn-color-background: var(--sg-background-color, var(--theme-background, var(--jp-layout-color0, white)));\n",
       "  --sklearn-color-border-box: var(--sg-text-color, var(--theme-code-foreground, var(--jp-content-font-color1, black)));\n",
       "  --sklearn-color-icon: #696969;\n",
       "\n",
       "  @media (prefers-color-scheme: dark) {\n",
       "    /* Redefinition of color scheme for dark theme */\n",
       "    --sklearn-color-text-on-default-background: var(--sg-text-color, var(--theme-code-foreground, var(--jp-content-font-color1, white)));\n",
       "    --sklearn-color-background: var(--sg-background-color, var(--theme-background, var(--jp-layout-color0, #111)));\n",
       "    --sklearn-color-border-box: var(--sg-text-color, var(--theme-code-foreground, var(--jp-content-font-color1, white)));\n",
       "    --sklearn-color-icon: #878787;\n",
       "  }\n",
       "}\n",
       "\n",
       "#sk-container-id-1 {\n",
       "  color: var(--sklearn-color-text);\n",
       "}\n",
       "\n",
       "#sk-container-id-1 pre {\n",
       "  padding: 0;\n",
       "}\n",
       "\n",
       "#sk-container-id-1 input.sk-hidden--visually {\n",
       "  border: 0;\n",
       "  clip: rect(1px 1px 1px 1px);\n",
       "  clip: rect(1px, 1px, 1px, 1px);\n",
       "  height: 1px;\n",
       "  margin: -1px;\n",
       "  overflow: hidden;\n",
       "  padding: 0;\n",
       "  position: absolute;\n",
       "  width: 1px;\n",
       "}\n",
       "\n",
       "#sk-container-id-1 div.sk-dashed-wrapped {\n",
       "  border: 1px dashed var(--sklearn-color-line);\n",
       "  margin: 0 0.4em 0.5em 0.4em;\n",
       "  box-sizing: border-box;\n",
       "  padding-bottom: 0.4em;\n",
       "  background-color: var(--sklearn-color-background);\n",
       "}\n",
       "\n",
       "#sk-container-id-1 div.sk-container {\n",
       "  /* jupyter's `normalize.less` sets `[hidden] { display: none; }`\n",
       "     but bootstrap.min.css set `[hidden] { display: none !important; }`\n",
       "     so we also need the `!important` here to be able to override the\n",
       "     default hidden behavior on the sphinx rendered scikit-learn.org.\n",
       "     See: https://github.com/scikit-learn/scikit-learn/issues/21755 */\n",
       "  display: inline-block !important;\n",
       "  position: relative;\n",
       "}\n",
       "\n",
       "#sk-container-id-1 div.sk-text-repr-fallback {\n",
       "  display: none;\n",
       "}\n",
       "\n",
       "div.sk-parallel-item,\n",
       "div.sk-serial,\n",
       "div.sk-item {\n",
       "  /* draw centered vertical line to link estimators */\n",
       "  background-image: linear-gradient(var(--sklearn-color-text-on-default-background), var(--sklearn-color-text-on-default-background));\n",
       "  background-size: 2px 100%;\n",
       "  background-repeat: no-repeat;\n",
       "  background-position: center center;\n",
       "}\n",
       "\n",
       "/* Parallel-specific style estimator block */\n",
       "\n",
       "#sk-container-id-1 div.sk-parallel-item::after {\n",
       "  content: \"\";\n",
       "  width: 100%;\n",
       "  border-bottom: 2px solid var(--sklearn-color-text-on-default-background);\n",
       "  flex-grow: 1;\n",
       "}\n",
       "\n",
       "#sk-container-id-1 div.sk-parallel {\n",
       "  display: flex;\n",
       "  align-items: stretch;\n",
       "  justify-content: center;\n",
       "  background-color: var(--sklearn-color-background);\n",
       "  position: relative;\n",
       "}\n",
       "\n",
       "#sk-container-id-1 div.sk-parallel-item {\n",
       "  display: flex;\n",
       "  flex-direction: column;\n",
       "}\n",
       "\n",
       "#sk-container-id-1 div.sk-parallel-item:first-child::after {\n",
       "  align-self: flex-end;\n",
       "  width: 50%;\n",
       "}\n",
       "\n",
       "#sk-container-id-1 div.sk-parallel-item:last-child::after {\n",
       "  align-self: flex-start;\n",
       "  width: 50%;\n",
       "}\n",
       "\n",
       "#sk-container-id-1 div.sk-parallel-item:only-child::after {\n",
       "  width: 0;\n",
       "}\n",
       "\n",
       "/* Serial-specific style estimator block */\n",
       "\n",
       "#sk-container-id-1 div.sk-serial {\n",
       "  display: flex;\n",
       "  flex-direction: column;\n",
       "  align-items: center;\n",
       "  background-color: var(--sklearn-color-background);\n",
       "  padding-right: 1em;\n",
       "  padding-left: 1em;\n",
       "}\n",
       "\n",
       "\n",
       "/* Toggleable style: style used for estimator/Pipeline/ColumnTransformer box that is\n",
       "clickable and can be expanded/collapsed.\n",
       "- Pipeline and ColumnTransformer use this feature and define the default style\n",
       "- Estimators will overwrite some part of the style using the `sk-estimator` class\n",
       "*/\n",
       "\n",
       "/* Pipeline and ColumnTransformer style (default) */\n",
       "\n",
       "#sk-container-id-1 div.sk-toggleable {\n",
       "  /* Default theme specific background. It is overwritten whether we have a\n",
       "  specific estimator or a Pipeline/ColumnTransformer */\n",
       "  background-color: var(--sklearn-color-background);\n",
       "}\n",
       "\n",
       "/* Toggleable label */\n",
       "#sk-container-id-1 label.sk-toggleable__label {\n",
       "  cursor: pointer;\n",
       "  display: block;\n",
       "  width: 100%;\n",
       "  margin-bottom: 0;\n",
       "  padding: 0.5em;\n",
       "  box-sizing: border-box;\n",
       "  text-align: center;\n",
       "}\n",
       "\n",
       "#sk-container-id-1 label.sk-toggleable__label-arrow:before {\n",
       "  /* Arrow on the left of the label */\n",
       "  content: \"▸\";\n",
       "  float: left;\n",
       "  margin-right: 0.25em;\n",
       "  color: var(--sklearn-color-icon);\n",
       "}\n",
       "\n",
       "#sk-container-id-1 label.sk-toggleable__label-arrow:hover:before {\n",
       "  color: var(--sklearn-color-text);\n",
       "}\n",
       "\n",
       "/* Toggleable content - dropdown */\n",
       "\n",
       "#sk-container-id-1 div.sk-toggleable__content {\n",
       "  max-height: 0;\n",
       "  max-width: 0;\n",
       "  overflow: hidden;\n",
       "  text-align: left;\n",
       "  /* unfitted */\n",
       "  background-color: var(--sklearn-color-unfitted-level-0);\n",
       "}\n",
       "\n",
       "#sk-container-id-1 div.sk-toggleable__content.fitted {\n",
       "  /* fitted */\n",
       "  background-color: var(--sklearn-color-fitted-level-0);\n",
       "}\n",
       "\n",
       "#sk-container-id-1 div.sk-toggleable__content pre {\n",
       "  margin: 0.2em;\n",
       "  border-radius: 0.25em;\n",
       "  color: var(--sklearn-color-text);\n",
       "  /* unfitted */\n",
       "  background-color: var(--sklearn-color-unfitted-level-0);\n",
       "}\n",
       "\n",
       "#sk-container-id-1 div.sk-toggleable__content.fitted pre {\n",
       "  /* unfitted */\n",
       "  background-color: var(--sklearn-color-fitted-level-0);\n",
       "}\n",
       "\n",
       "#sk-container-id-1 input.sk-toggleable__control:checked~div.sk-toggleable__content {\n",
       "  /* Expand drop-down */\n",
       "  max-height: 200px;\n",
       "  max-width: 100%;\n",
       "  overflow: auto;\n",
       "}\n",
       "\n",
       "#sk-container-id-1 input.sk-toggleable__control:checked~label.sk-toggleable__label-arrow:before {\n",
       "  content: \"▾\";\n",
       "}\n",
       "\n",
       "/* Pipeline/ColumnTransformer-specific style */\n",
       "\n",
       "#sk-container-id-1 div.sk-label input.sk-toggleable__control:checked~label.sk-toggleable__label {\n",
       "  color: var(--sklearn-color-text);\n",
       "  background-color: var(--sklearn-color-unfitted-level-2);\n",
       "}\n",
       "\n",
       "#sk-container-id-1 div.sk-label.fitted input.sk-toggleable__control:checked~label.sk-toggleable__label {\n",
       "  background-color: var(--sklearn-color-fitted-level-2);\n",
       "}\n",
       "\n",
       "/* Estimator-specific style */\n",
       "\n",
       "/* Colorize estimator box */\n",
       "#sk-container-id-1 div.sk-estimator input.sk-toggleable__control:checked~label.sk-toggleable__label {\n",
       "  /* unfitted */\n",
       "  background-color: var(--sklearn-color-unfitted-level-2);\n",
       "}\n",
       "\n",
       "#sk-container-id-1 div.sk-estimator.fitted input.sk-toggleable__control:checked~label.sk-toggleable__label {\n",
       "  /* fitted */\n",
       "  background-color: var(--sklearn-color-fitted-level-2);\n",
       "}\n",
       "\n",
       "#sk-container-id-1 div.sk-label label.sk-toggleable__label,\n",
       "#sk-container-id-1 div.sk-label label {\n",
       "  /* The background is the default theme color */\n",
       "  color: var(--sklearn-color-text-on-default-background);\n",
       "}\n",
       "\n",
       "/* On hover, darken the color of the background */\n",
       "#sk-container-id-1 div.sk-label:hover label.sk-toggleable__label {\n",
       "  color: var(--sklearn-color-text);\n",
       "  background-color: var(--sklearn-color-unfitted-level-2);\n",
       "}\n",
       "\n",
       "/* Label box, darken color on hover, fitted */\n",
       "#sk-container-id-1 div.sk-label.fitted:hover label.sk-toggleable__label.fitted {\n",
       "  color: var(--sklearn-color-text);\n",
       "  background-color: var(--sklearn-color-fitted-level-2);\n",
       "}\n",
       "\n",
       "/* Estimator label */\n",
       "\n",
       "#sk-container-id-1 div.sk-label label {\n",
       "  font-family: monospace;\n",
       "  font-weight: bold;\n",
       "  display: inline-block;\n",
       "  line-height: 1.2em;\n",
       "}\n",
       "\n",
       "#sk-container-id-1 div.sk-label-container {\n",
       "  text-align: center;\n",
       "}\n",
       "\n",
       "/* Estimator-specific */\n",
       "#sk-container-id-1 div.sk-estimator {\n",
       "  font-family: monospace;\n",
       "  border: 1px dotted var(--sklearn-color-border-box);\n",
       "  border-radius: 0.25em;\n",
       "  box-sizing: border-box;\n",
       "  margin-bottom: 0.5em;\n",
       "  /* unfitted */\n",
       "  background-color: var(--sklearn-color-unfitted-level-0);\n",
       "}\n",
       "\n",
       "#sk-container-id-1 div.sk-estimator.fitted {\n",
       "  /* fitted */\n",
       "  background-color: var(--sklearn-color-fitted-level-0);\n",
       "}\n",
       "\n",
       "/* on hover */\n",
       "#sk-container-id-1 div.sk-estimator:hover {\n",
       "  /* unfitted */\n",
       "  background-color: var(--sklearn-color-unfitted-level-2);\n",
       "}\n",
       "\n",
       "#sk-container-id-1 div.sk-estimator.fitted:hover {\n",
       "  /* fitted */\n",
       "  background-color: var(--sklearn-color-fitted-level-2);\n",
       "}\n",
       "\n",
       "/* Specification for estimator info (e.g. \"i\" and \"?\") */\n",
       "\n",
       "/* Common style for \"i\" and \"?\" */\n",
       "\n",
       ".sk-estimator-doc-link,\n",
       "a:link.sk-estimator-doc-link,\n",
       "a:visited.sk-estimator-doc-link {\n",
       "  float: right;\n",
       "  font-size: smaller;\n",
       "  line-height: 1em;\n",
       "  font-family: monospace;\n",
       "  background-color: var(--sklearn-color-background);\n",
       "  border-radius: 1em;\n",
       "  height: 1em;\n",
       "  width: 1em;\n",
       "  text-decoration: none !important;\n",
       "  margin-left: 1ex;\n",
       "  /* unfitted */\n",
       "  border: var(--sklearn-color-unfitted-level-1) 1pt solid;\n",
       "  color: var(--sklearn-color-unfitted-level-1);\n",
       "}\n",
       "\n",
       ".sk-estimator-doc-link.fitted,\n",
       "a:link.sk-estimator-doc-link.fitted,\n",
       "a:visited.sk-estimator-doc-link.fitted {\n",
       "  /* fitted */\n",
       "  border: var(--sklearn-color-fitted-level-1) 1pt solid;\n",
       "  color: var(--sklearn-color-fitted-level-1);\n",
       "}\n",
       "\n",
       "/* On hover */\n",
       "div.sk-estimator:hover .sk-estimator-doc-link:hover,\n",
       ".sk-estimator-doc-link:hover,\n",
       "div.sk-label-container:hover .sk-estimator-doc-link:hover,\n",
       ".sk-estimator-doc-link:hover {\n",
       "  /* unfitted */\n",
       "  background-color: var(--sklearn-color-unfitted-level-3);\n",
       "  color: var(--sklearn-color-background);\n",
       "  text-decoration: none;\n",
       "}\n",
       "\n",
       "div.sk-estimator.fitted:hover .sk-estimator-doc-link.fitted:hover,\n",
       ".sk-estimator-doc-link.fitted:hover,\n",
       "div.sk-label-container:hover .sk-estimator-doc-link.fitted:hover,\n",
       ".sk-estimator-doc-link.fitted:hover {\n",
       "  /* fitted */\n",
       "  background-color: var(--sklearn-color-fitted-level-3);\n",
       "  color: var(--sklearn-color-background);\n",
       "  text-decoration: none;\n",
       "}\n",
       "\n",
       "/* Span, style for the box shown on hovering the info icon */\n",
       ".sk-estimator-doc-link span {\n",
       "  display: none;\n",
       "  z-index: 9999;\n",
       "  position: relative;\n",
       "  font-weight: normal;\n",
       "  right: .2ex;\n",
       "  padding: .5ex;\n",
       "  margin: .5ex;\n",
       "  width: min-content;\n",
       "  min-width: 20ex;\n",
       "  max-width: 50ex;\n",
       "  color: var(--sklearn-color-text);\n",
       "  box-shadow: 2pt 2pt 4pt #999;\n",
       "  /* unfitted */\n",
       "  background: var(--sklearn-color-unfitted-level-0);\n",
       "  border: .5pt solid var(--sklearn-color-unfitted-level-3);\n",
       "}\n",
       "\n",
       ".sk-estimator-doc-link.fitted span {\n",
       "  /* fitted */\n",
       "  background: var(--sklearn-color-fitted-level-0);\n",
       "  border: var(--sklearn-color-fitted-level-3);\n",
       "}\n",
       "\n",
       ".sk-estimator-doc-link:hover span {\n",
       "  display: block;\n",
       "}\n",
       "\n",
       "/* \"?\"-specific style due to the `<a>` HTML tag */\n",
       "\n",
       "#sk-container-id-1 a.estimator_doc_link {\n",
       "  float: right;\n",
       "  font-size: 1rem;\n",
       "  line-height: 1em;\n",
       "  font-family: monospace;\n",
       "  background-color: var(--sklearn-color-background);\n",
       "  border-radius: 1rem;\n",
       "  height: 1rem;\n",
       "  width: 1rem;\n",
       "  text-decoration: none;\n",
       "  /* unfitted */\n",
       "  color: var(--sklearn-color-unfitted-level-1);\n",
       "  border: var(--sklearn-color-unfitted-level-1) 1pt solid;\n",
       "}\n",
       "\n",
       "#sk-container-id-1 a.estimator_doc_link.fitted {\n",
       "  /* fitted */\n",
       "  border: var(--sklearn-color-fitted-level-1) 1pt solid;\n",
       "  color: var(--sklearn-color-fitted-level-1);\n",
       "}\n",
       "\n",
       "/* On hover */\n",
       "#sk-container-id-1 a.estimator_doc_link:hover {\n",
       "  /* unfitted */\n",
       "  background-color: var(--sklearn-color-unfitted-level-3);\n",
       "  color: var(--sklearn-color-background);\n",
       "  text-decoration: none;\n",
       "}\n",
       "\n",
       "#sk-container-id-1 a.estimator_doc_link.fitted:hover {\n",
       "  /* fitted */\n",
       "  background-color: var(--sklearn-color-fitted-level-3);\n",
       "}\n",
       "</style><div id=\"sk-container-id-1\" class=\"sk-top-container\"><div class=\"sk-text-repr-fallback\"><pre>CRF(max_iterations=200)</pre><b>In a Jupyter environment, please rerun this cell to show the HTML representation or trust the notebook. <br />On GitHub, the HTML representation is unable to render, please try loading this page with nbviewer.org.</b></div><div class=\"sk-container\" hidden><div class=\"sk-item\"><div class=\"sk-estimator fitted sk-toggleable\"><input class=\"sk-toggleable__control sk-hidden--visually\" id=\"sk-estimator-id-1\" type=\"checkbox\" checked><label for=\"sk-estimator-id-1\" class=\"sk-toggleable__label fitted sk-toggleable__label-arrow fitted\">&nbsp;CRF<span class=\"sk-estimator-doc-link fitted\">i<span>Fitted</span></span></label><div class=\"sk-toggleable__content fitted\"><pre>CRF(max_iterations=200)</pre></div> </div></div></div></div>"
      ],
      "text/plain": [
       "CRF(max_iterations=200)"
      ]
     },
     "execution_count": 24,
     "metadata": {},
     "output_type": "execute_result"
    }
   ],
   "source": [
    "# Build the CRF model.\n",
    "crf = sklearn_crfsuite.CRF(max_iterations=200)\n",
    "crf.fit(X_train, Y_train)"
   ]
  },
  {
   "cell_type": "markdown",
   "metadata": {
    "id": "5VPFrPZJOJMq"
   },
   "source": [
    "## Evaluating the model"
   ]
  },
  {
   "cell_type": "code",
   "execution_count": 25,
   "metadata": {
    "id": "D_sDJs1n8-sI"
   },
   "outputs": [],
   "source": [
    "# Predicting on test dataset using the trained model\n",
    "Y_pred = crf.predict(X_test)"
   ]
  },
  {
   "cell_type": "code",
   "execution_count": 26,
   "metadata": {
    "id": "Lr_JNIgrOTcr"
   },
   "outputs": [
    {
     "name": "stdout",
     "output_type": "stream",
     "text": [
      "F1 score for prepared model = 0.9200617128541253\n"
     ]
    }
   ],
   "source": [
    "# Printing the f2 score for the model against predicted labels\n",
    "f1_score = metrics.flat_f1_score(Y_test, Y_pred, average=\"weighted\")\n",
    "print(\"F1 score for prepared model =\", f1_score)"
   ]
  },
  {
   "cell_type": "markdown",
   "metadata": {
    "id": "ORDyDw6sYHf5"
   },
   "source": [
    "## Identifying Diseases and Treatments"
   ]
  },
  {
   "cell_type": "code",
   "execution_count": 27,
   "metadata": {
    "id": "6reMqClg97Ry"
   },
   "outputs": [
    {
     "data": {
      "text/html": [
       "<div>\n",
       "<style scoped>\n",
       "    .dataframe tbody tr th:only-of-type {\n",
       "        vertical-align: middle;\n",
       "    }\n",
       "\n",
       "    .dataframe tbody tr th {\n",
       "        vertical-align: top;\n",
       "    }\n",
       "\n",
       "    .dataframe thead th {\n",
       "        text-align: right;\n",
       "    }\n",
       "</style>\n",
       "<table border=\"1\" class=\"dataframe\">\n",
       "  <thead>\n",
       "    <tr style=\"text-align: right;\">\n",
       "      <th></th>\n",
       "      <th>Disease</th>\n",
       "      <th>Treatments</th>\n",
       "    </tr>\n",
       "  </thead>\n",
       "  <tbody>\n",
       "    <tr>\n",
       "      <th>0</th>\n",
       "      <td>gestational diabetes cases</td>\n",
       "      <td>[good glycemic control]</td>\n",
       "    </tr>\n",
       "    <tr>\n",
       "      <th>1</th>\n",
       "      <td>hereditary retinoblastoma</td>\n",
       "      <td>[radiotherapy]</td>\n",
       "    </tr>\n",
       "    <tr>\n",
       "      <th>2</th>\n",
       "      <td>unstable angina or non-Q-wave myocardial infar...</td>\n",
       "      <td>[roxithromycin]</td>\n",
       "    </tr>\n",
       "    <tr>\n",
       "      <th>3</th>\n",
       "      <td>coronary-artery disease</td>\n",
       "      <td>[Antichlamydial antibiotics]</td>\n",
       "    </tr>\n",
       "    <tr>\n",
       "      <th>4</th>\n",
       "      <td>primary pulmonary hypertension ( PPH )</td>\n",
       "      <td>[fenfluramines]</td>\n",
       "    </tr>\n",
       "  </tbody>\n",
       "</table>\n",
       "</div>"
      ],
      "text/plain": [
       "                                             Disease  \\\n",
       "0                         gestational diabetes cases   \n",
       "1                          hereditary retinoblastoma   \n",
       "2  unstable angina or non-Q-wave myocardial infar...   \n",
       "3                            coronary-artery disease   \n",
       "4             primary pulmonary hypertension ( PPH )   \n",
       "\n",
       "                     Treatments  \n",
       "0       [good glycemic control]  \n",
       "1                [radiotherapy]  \n",
       "2               [roxithromycin]  \n",
       "3  [Antichlamydial antibiotics]  \n",
       "4               [fenfluramines]  "
      ]
     },
     "execution_count": 27,
     "metadata": {},
     "output_type": "execute_result"
    }
   ],
   "source": [
    "# Preparing a list of the diseases and corresponding treatments as found as per predicted labels\n",
    "treatments = {}\n",
    "for i, pred in enumerate(Y_pred):\n",
    "    # print(test_sentences[i])\n",
    "    # print(pred)\n",
    "    treatment = []\n",
    "    disease = []\n",
    "    sentence = test_sentences[i]\n",
    "    words = sentence.split()\n",
    "    for j, label in enumerate(pred):\n",
    "        if label == 'D':\n",
    "            disease.append(words[j])\n",
    "        elif label == 'T':\n",
    "            treatment.append(words[j])\n",
    "\n",
    "    if len(disease) > 0 and len(treatment) > 0:\n",
    "        disease = \" \".join(disease)\n",
    "        if disease not in treatments:\n",
    "            treatments[disease] = []\n",
    "        treatments[disease].append(\" \".join(treatment))\n",
    "\n",
    "# Convert into data frame and print first 5 rows\n",
    "treatments = pd.DataFrame(list(treatments.items()), columns=['Disease', 'Treatments'])\n",
    "treatments.head()"
   ]
  },
  {
   "cell_type": "markdown",
   "metadata": {
    "id": "TvTodSY5OfZ9"
   },
   "source": [
    "### Predict the treatment for the disease name: 'hereditary retinoblastoma'"
   ]
  },
  {
   "cell_type": "code",
   "execution_count": 28,
   "metadata": {
    "id": "uZNBLMFYVuhv"
   },
   "outputs": [
    {
     "name": "stdout",
     "output_type": "stream",
     "text": [
      "Treatment for hereditary retinoblastoma is radiotherapy\n"
     ]
    }
   ],
   "source": [
    "disease = \"hereditary retinoblastoma\"\n",
    "print(\"Treatment for\", disease, \"is\", \",\".join(treatments[treatments['Disease'] == 'hereditary retinoblastoma']['Treatments'].to_list()[0]))"
   ]
  },
  {
   "cell_type": "code",
   "execution_count": null,
   "metadata": {},
   "outputs": [],
   "source": []
  }
 ],
 "metadata": {
  "colab": {
   "collapsed_sections": [],
   "name": "Assignment.ipynb",
   "provenance": []
  },
  "kernelspec": {
   "display_name": "Python 3 (ipykernel)",
   "language": "python",
   "name": "python3"
  },
  "language_info": {
   "codemirror_mode": {
    "name": "ipython",
    "version": 3
   },
   "file_extension": ".py",
   "mimetype": "text/x-python",
   "name": "python",
   "nbconvert_exporter": "python",
   "pygments_lexer": "ipython3",
   "version": "3.12.7"
  }
 },
 "nbformat": 4,
 "nbformat_minor": 4
}
